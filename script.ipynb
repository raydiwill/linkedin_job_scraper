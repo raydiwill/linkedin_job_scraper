{
 "cells": [
  {
   "cell_type": "markdown",
   "metadata": {
    "collapsed": false,
    "pycharm": {
     "name": "#%% md\n"
    }
   },
   "source": [
    "## Bot scraping job details on Linkedin"
   ]
  },
  {
   "cell_type": "markdown",
   "metadata": {
    "collapsed": false,
    "pycharm": {
     "name": "#%% md\n"
    }
   },
   "source": [
    "### Install selenium package"
   ]
  },
  {
   "cell_type": "code",
   "execution_count": null,
   "metadata": {
    "collapsed": false,
    "pycharm": {
     "is_executing": true,
     "name": "#%%\n"
    }
   },
   "outputs": [],
   "source": [
    "pip install selenium bs4"
   ]
  },
  {
   "cell_type": "markdown",
   "metadata": {
    "collapsed": false,
    "pycharm": {
     "name": "#%% md\n"
    }
   },
   "source": [
    "### Import necessary modules"
   ]
  },
  {
   "cell_type": "code",
   "execution_count": 135,
   "metadata": {
    "collapsed": false,
    "pycharm": {
     "name": "#%%\n"
    }
   },
   "outputs": [],
   "source": [
    "import time\n",
    "from selenium import webdriver\n",
    "from selenium.webdriver.common.keys import Keys\n",
    "from selenium.webdriver.common.by import By\n",
    "from selenium.webdriver.support.ui import WebDriverWait\n",
    "from selenium.webdriver.support import expected_conditions as EC\n",
    "from bs4 import BeautifulSoup as bs\n",
    "import pandas as pd"
   ]
  },
  {
   "cell_type": "markdown",
   "metadata": {
    "collapsed": false,
    "pycharm": {
     "name": "#%% md\n"
    }
   },
   "source": [
    "### Initiate browser to scrape, navigate to Linkedin main website"
   ]
  },
  {
   "cell_type": "code",
   "execution_count": null,
   "metadata": {
    "collapsed": false,
    "pycharm": {
     "is_executing": true,
     "name": "#%%\n"
    }
   },
   "outputs": [],
   "source": [
    "PATH = 'C:\\Program Files (x86)\\chromedriver.exe'\n",
    "browser = webdriver.Chrome(PATH)\n",
    "browser.get('https://www.linkedin.com/')\n",
    "browser.maximize_window()\n",
    "time.sleep(5)"
   ]
  },
  {
   "cell_type": "markdown",
   "metadata": {
    "collapsed": false,
    "pycharm": {
     "name": "#%% md\n"
    }
   },
   "source": [
    "### Login procedure"
   ]
  },
  {
   "cell_type": "code",
   "execution_count": null,
   "metadata": {
    "collapsed": false,
    "pycharm": {
     "name": "#%%\n"
    }
   },
   "outputs": [],
   "source": [
    "username = browser.find_element('id', 'session_key')\n",
    "username.send_keys('your email')\n",
    "password = browser.find_element('id', 'session_password')\n",
    "password.send_keys('your password')\n",
    "browser.find_element(By.CLASS_NAME,'sign-in-form__submit-button').click()\n",
    "time.sleep(15)"
   ]
  },
  {
   "cell_type": "markdown",
   "metadata": {
    "collapsed": false,
    "pycharm": {
     "name": "#%% md\n"
    }
   },
   "source": [
    "### Navigate to job listing subdomain"
   ]
  },
  {
   "cell_type": "code",
   "execution_count": 51,
   "metadata": {
    "collapsed": false,
    "pycharm": {
     "name": "#%%\n"
    }
   },
   "outputs": [],
   "source": [
    "browser.get('https://www.linkedin.com/jobs/search/')\n",
    "time.sleep(5)"
   ]
  },
  {
   "cell_type": "markdown",
   "metadata": {
    "collapsed": false,
    "pycharm": {
     "name": "#%% md\n"
    }
   },
   "source": [
    "### Search for a specific job and location"
   ]
  },
  {
   "cell_type": "code",
   "execution_count": 52,
   "metadata": {
    "collapsed": false,
    "pycharm": {
     "name": "#%%\n"
    }
   },
   "outputs": [],
   "source": [
    "job_search = browser.find_element(By.CLASS_NAME, \"jobs-search-box__text-input\")\n",
    "job_search.send_keys('data analyst')\n",
    "job_loc_search = browser.find_element(By.XPATH, '//input[@aria-label=\"City, state, or zip code\"]')\n",
    "job_loc_search.clear()\n",
    "job_loc_search.send_keys('Hanoi')\n",
    "browser.find_element(By.CLASS_NAME, \"jobs-search-box__submit-button\").click()\n",
    "time.sleep(20)"
   ]
  },
  {
   "cell_type": "markdown",
   "metadata": {
    "collapsed": false,
    "pycharm": {
     "name": "#%% md\n"
    }
   },
   "source": [
    "### Start scraping job details"
   ]
  },
  {
   "cell_type": "markdown",
   "metadata": {
    "collapsed": false,
    "pycharm": {
     "name": "#%% md\n"
    }
   },
   "source": [
    "### Initiate an empty list to hold job infomation"
   ]
  },
  {
   "cell_type": "code",
   "execution_count": 152,
   "metadata": {
    "collapsed": false,
    "pycharm": {
     "name": "#%%\n"
    }
   },
   "outputs": [],
   "source": [
    "job_lists = []"
   ]
  },
  {
   "cell_type": "markdown",
   "metadata": {
    "collapsed": false,
    "pycharm": {
     "name": "#%% md\n"
    }
   },
   "source": [
    "###"
   ]
  },
  {
   "cell_type": "code",
   "execution_count": null,
   "metadata": {
    "collapsed": false,
    "pycharm": {
     "is_executing": true,
     "name": "#%%\n"
    }
   },
   "outputs": [],
   "source": [
    "for page in range(2,6):\n",
    "    job_cards = browser.find_elements(By.XPATH, '//ul[@class=\"jobs-search-results__list list-style-none\"]/li')\n",
    "    card_ids = [result.get_attribute('id') for result in job_cards]\n",
    "    for id in card_ids:\n",
    "        try:\n",
    "            job = browser.find_element(By.ID, id)\n",
    "            job_id = job.get_attribute('data-occludable-job-id')\n",
    "            browser.find_element(By.XPATH, f'//div[@data-job-id={job_id}]').click()\n",
    "        except:\n",
    "            continue\n",
    "\n",
    "        try:\n",
    "            job_title = browser.find_element(By.XPATH, \"//h2[@class='t-24 t-bold jobs-unified-top-card__job-title']\").text\n",
    "        except:\n",
    "            job_title = ''\n",
    "\n",
    "        #print(job_title)\n",
    "\n",
    "        try:\n",
    "            sub_card_1 = browser.find_element(By.XPATH, \"//span[@class='jobs-unified-top-card__subtitle-primary-grouping mr2 t-black']\").find_elements(By.TAG_NAME, 'span')\n",
    "            job_company = sub_card_1[0].text\n",
    "            job_location = sub_card_1[1].text\n",
    "            if (len(sub_card_1) > 2):\n",
    "                job_worktype = sub_card_1[2].text\n",
    "            else:\n",
    "                job_worktype = ''\n",
    "        except:\n",
    "            job_company = ''\n",
    "            job_location = ''\n",
    "            job_worktype = ''\n",
    "\n",
    "        #print(job_company + \" \" + job_location + \" \" + job_worktype)\n",
    "        #print()\n",
    "        try:\n",
    "            sub_card_2 = browser.find_element(By.XPATH, \"//span[@class='jobs-unified-top-card__subtitle-secondary-grouping t-black--light']\").find_elements(By.TAG_NAME, 'span')\n",
    "            job_post_date_from_sd = sub_card_2[0].text\n",
    "            job_no_of_apps = sub_card_2[1].text\n",
    "        except:\n",
    "            job_post_date_from_sd = ''\n",
    "            job_no_of_apps = ''\n",
    "        #print(job_post_date_from_sd + \" \" + job_no_of_apps)\n",
    "        job_list = [job_title, job_company, job_location, job_worktype, job_post_date_from_sd, job_no_of_apps]\n",
    "        job_lists.append(job_list)\n",
    "\n",
    "    browser.find_element(By.XPATH, f'//button[@aria-label=\"Page {page}\"]').click()\n",
    "    time.sleep(2)\n"
   ]
  },
  {
   "cell_type": "markdown",
   "metadata": {
    "collapsed": false,
    "pycharm": {
     "name": "#%% md\n"
    }
   },
   "source": [
    "## Create a dataframe for exporting csv file"
   ]
  },
  {
   "cell_type": "code",
   "execution_count": null,
   "metadata": {
    "collapsed": false,
    "pycharm": {
     "is_executing": true,
     "name": "#%%\n"
    }
   },
   "outputs": [],
   "source": [
    "df = pd.DataFrame(job_lists, columns=['Job title', 'Company', 'Working location', 'Work type', 'Post date', 'Number of applicants'])\n",
    "df"
   ]
  },
  {
   "cell_type": "markdown",
   "metadata": {
    "collapsed": false,
    "pycharm": {
     "name": "#%% md\n"
    }
   },
   "source": [
    "## Export dataframe to a csv file"
   ]
  },
  {
   "cell_type": "code",
   "execution_count": 157,
   "metadata": {
    "collapsed": false,
    "pycharm": {
     "name": "#%%\n"
    }
   },
   "outputs": [],
   "source": [
    "df.to_csv('linkedin_job_details.csv')"
   ]
  }
 ],
 "metadata": {
  "kernelspec": {
   "display_name": "Python 3.10.5 64-bit (windows store)",
   "language": "python",
   "name": "python3"
  },
  "language_info": {
   "codemirror_mode": {
    "name": "ipython",
    "version": 2
   },
   "file_extension": ".py",
   "mimetype": "text/x-python",
   "name": "python",
   "nbconvert_exporter": "python",
   "pygments_lexer": "ipython2",
   "version": "3.10.5"
  },
  "vscode": {
   "interpreter": {
    "hash": "0c048466472fb7010d412bb312523c5fc6cbeae69047eb1567c2a8a81d5e00ba"
   }
  }
 },
 "nbformat": 4,
 "nbformat_minor": 0
}
